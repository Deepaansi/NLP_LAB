{
  "nbformat": 4,
  "nbformat_minor": 0,
  "metadata": {
    "colab": {
      "name": "Untitled16.ipynb",
      "provenance": [],
      "include_colab_link": true
    },
    "kernelspec": {
      "name": "python3",
      "display_name": "Python 3"
    },
    "language_info": {
      "name": "python"
    }
  },
  "cells": [
    {
      "cell_type": "markdown",
      "metadata": {
        "id": "view-in-github",
        "colab_type": "text"
      },
      "source": [
        "<a href=\"https://colab.research.google.com/github/Deepaansi/NLP_LAB/blob/main/Experiment1.ipynb\" target=\"_parent\"><img src=\"https://colab.research.google.com/assets/colab-badge.svg\" alt=\"Open In Colab\"/></a>"
      ]
    },
    {
      "cell_type": "markdown",
      "metadata": {
        "id": "u-M46US9Umeb"
      },
      "source": [
        "**Experiment** - **1**"
      ]
    },
    {
      "cell_type": "markdown",
      "metadata": {
        "id": "AlHcnIfYUkuW"
      },
      "source": [
        "**1.Replace all occurrences of 5 with ‘five’ for the given** **string**"
      ]
    },
    {
      "cell_type": "code",
      "metadata": {
        "colab": {
          "base_uri": "https://localhost:8080/",
          "height": 35
        },
        "id": "6Znvcft5U3xi",
        "outputId": "dc1f0109-6f7f-4d50-de78-4b16751b497b"
      },
      "source": [
        "import re\n",
        "string='I got 5 star rating for my service.'\n",
        "re.sub(r'5', 'five', string)"
      ],
      "execution_count": 2,
      "outputs": [
        {
          "output_type": "execute_result",
          "data": {
            "application/vnd.google.colaboratory.intrinsic+json": {
              "type": "string"
            },
            "text/plain": [
              "'I got five star rating for my service.'"
            ]
          },
          "metadata": {},
          "execution_count": 2
        }
      ]
    },
    {
      "cell_type": "markdown",
      "metadata": {
        "id": "hAvGKOFCVHlI"
      },
      "source": [
        "**2.For the given list, filter all elements that do not contain ‘e’.**"
      ]
    },
    {
      "cell_type": "code",
      "metadata": {
        "colab": {
          "base_uri": "https://localhost:8080/"
        },
        "id": "OiWB-cteVC7c",
        "outputId": "60ee54ed-11ae-4fb4-baab-368d6cde08ec"
      },
      "source": [
        "list = ['hi', 'deepu', 'sony', 'jerusha']\n",
        "[x for x in list if not re.search(r'e', x)]"
      ],
      "execution_count": 4,
      "outputs": [
        {
          "output_type": "execute_result",
          "data": {
            "text/plain": [
              "['hi', 'sony']"
            ]
          },
          "metadata": {},
          "execution_count": 4
        }
      ]
    },
    {
      "cell_type": "markdown",
      "metadata": {
        "id": "y2vzoUd-VVb1"
      },
      "source": [
        "**3.For the given input string, display all lines not containing ‘start’ irrespective of case.**"
      ]
    },
    {
      "cell_type": "code",
      "metadata": {
        "colab": {
          "base_uri": "https://localhost:8080/"
        },
        "id": "iPaXZaY9Vm--",
        "outputId": "5d1130a3-c5ca-4432-fb98-fe2fc31d9373"
      },
      "source": [
        "k = '''start learning\n",
        "my friends always learn\n",
        "new things and they are\n",
        "very hard working\n",
        "so you should start\n",
        "working on new things\n",
        "to succeed'''\n",
        "w = re.compile(r'start', flags=re.I)\n",
        "for i in k.split('\\n'):\n",
        "     if not w.search(i):\n",
        "         print(i)"
      ],
      "execution_count": 9,
      "outputs": [
        {
          "output_type": "stream",
          "name": "stdout",
          "text": [
            "my friends always learn\n",
            "new things and they are\n",
            "very hard working\n",
            "working on new things\n",
            "to succeed\n"
          ]
        }
      ]
    },
    {
      "cell_type": "markdown",
      "metadata": {
        "id": "zAIhrxyFVtpI"
      },
      "source": [
        "**4.For the given input list, filter all elements that contains 42 surrounded by word characters.**"
      ]
    },
    {
      "cell_type": "code",
      "metadata": {
        "colab": {
          "base_uri": "https://localhost:8080/"
        },
        "id": "NyJ5uKS8VxSQ",
        "outputId": "3d21b29b-3c62-48a4-b53e-282614e5f44e"
      },
      "source": [
        "list = ['dips42som', 'sony42priya', 'jer42usha', 'ram42tata', 'singh4b']\n",
        "[x for x in list if re.search(r'\\B42\\B', x)]"
      ],
      "execution_count": null,
      "outputs": [
        {
          "output_type": "execute_result",
          "data": {
            "text/plain": [
              "['dips42som', 'sony42priya', 'jer42usha', 'ram42tata']"
            ]
          },
          "metadata": {},
          "execution_count": 4
        }
      ]
    },
    {
      "cell_type": "markdown",
      "metadata": {
        "id": "UwZOfvagWEWn"
      },
      "source": [
        "**5.Validate the CVV number(It should have 3 or 4 digits, It should have a digit between 0-9, It should not have any alphabets and special characters)**"
      ]
    },
    {
      "cell_type": "code",
      "metadata": {
        "colab": {
          "base_uri": "https://localhost:8080/"
        },
        "id": "PJDwIVXiWGKu",
        "outputId": "efdb2037-38a5-4809-c8ce-026090d6a94c"
      },
      "source": [
        "def isValidCVVNumber(str):\n",
        "    regex = \"^[0-9]{3,4}$\"\n",
        "    p = re.compile(regex)\n",
        "    if(str == None):\n",
        "        return False\n",
        "    if(re.search(p, str)):\n",
        "        return True\n",
        "    else:\n",
        "        return False\n",
        "s1 = \"789\"\n",
        "print(isValidCVVNumber(s1))\n",
        "s2 = \"1234\"\n",
        "print(isValidCVVNumber(s2))\n",
        "s3 = \"603456\"\n",
        "print(isValidCVVNumber(s3))\n",
        "s4 = \"8*120\"\n",
        "print(isValidCVVNumber(s4))"
      ],
      "execution_count": null,
      "outputs": [
        {
          "output_type": "stream",
          "name": "stdout",
          "text": [
            "True\n",
            "True\n",
            "False\n",
            "False\n"
          ]
        }
      ]
    },
    {
      "cell_type": "markdown",
      "metadata": {
        "id": "-fklOCzCWVWK"
      },
      "source": [
        "**6.For the given input string, change whole word mall to 1234 only if it is at the start of a line**"
      ]
    },
    {
      "cell_type": "code",
      "metadata": {
        "colab": {
          "base_uri": "https://localhost:8080/"
        },
        "id": "5VY2LwS0WbHW",
        "outputId": "33897f7a-a3ae-421c-d383-b191c94e1797"
      },
      "source": [
        "p = '''\n",
        "deepu sony jerusha\n",
        "went to the\n",
        "mall for shopping\n",
        "and then\n",
        "returned back home\n",
        "from mall'''\n",
        "\n",
        "print(re.sub(r'^mall\\b', '1234', p, flags=re.M))"
      ],
      "execution_count": 10,
      "outputs": [
        {
          "output_type": "stream",
          "name": "stdout",
          "text": [
            "\n",
            "deepu sony jerusha\n",
            "went to the\n",
            "1234 for shopping\n",
            "and then\n",
            "returned back home\n",
            "from mall\n"
          ]
        }
      ]
    },
    {
      "cell_type": "markdown",
      "metadata": {
        "id": "BfP6sQl7Wi4T"
      },
      "source": [
        "**7.Check whether the given email address is valid or not.**"
      ]
    },
    {
      "cell_type": "code",
      "metadata": {
        "colab": {
          "base_uri": "https://localhost:8080/"
        },
        "id": "bFqFFUZjWlzW",
        "outputId": "89800c99-a2c5-4c01-db63-d45cacb6146d"
      },
      "source": [
        "regex = r'\\b[A-Za-z0-9._%+-]+@[A-Za-z0-9.-]+\\.[A-Z|a-z]{2,}\\b'\n",
        " \n",
        "def check(email):\n",
        "    if(re.fullmatch(regex, email)):\n",
        "        print(\"Valid Email\")\n",
        "    else:\n",
        "        print(\"Invalid Email\")\n",
        "if __name__ == '__main__':\n",
        "    email = \"deepu21@gmail.com\"\n",
        "    check(email)\n",
        "    email = \"jerusha.34@our-girl.org\"\n",
        "    check(email) \n",
        "    email = \"sony1234.com\"\n",
        "    check(email)"
      ],
      "execution_count": null,
      "outputs": [
        {
          "output_type": "stream",
          "name": "stdout",
          "text": [
            "Valid Email\n",
            "Valid Email\n",
            "Invalid Email\n"
          ]
        }
      ]
    },
    {
      "cell_type": "markdown",
      "metadata": {
        "id": "fFMU5x5qW1hp"
      },
      "source": [
        "**8.Check whether the Aadhar number is valid or not ( It should have 12 digits, It should not start with 0 and 1, It should not contain any alphabet and special characters, It should have white space after every 4 digits)**"
      ]
    },
    {
      "cell_type": "code",
      "metadata": {
        "colab": {
          "base_uri": "https://localhost:8080/"
        },
        "id": "qKCHeb2ZW4pS",
        "outputId": "b393c5af-8282-4087-b13b-53b72f605b49"
      },
      "source": [
        "def isValidAadharNumber(str):\n",
        "  regex = (\"^[2-9]{1}[0-9]{3}\\\\\" + \"s[0-9]{4}\\\\s[0-9]{4}$\")\n",
        "  a= re.compile(regex)\n",
        "  if (str == None):\n",
        "        return False\n",
        "  if(re.search(a, str)):\n",
        "        return True\n",
        "  else:\n",
        "        return False\n",
        "s1 = \"1234 5678 90\"\n",
        "print(isValidAadharNumber(s1))\n",
        "s2 = \"4456 7890 6233\"\n",
        "print(isValidAadharNumber(s2))\n",
        "s3 = \"0123 9870 7892 45\"\n",
        "print(isValidAadharNumber(s3))\n",
        "s4 = \"3678 43E5 90*3\"\n",
        "print(isValidAadharNumber(s4))\n",
        "s5 = \"123456789012\"\n",
        "print(isValidAadharNumber(s5))"
      ],
      "execution_count": null,
      "outputs": [
        {
          "output_type": "stream",
          "name": "stdout",
          "text": [
            "False\n",
            "True\n",
            "False\n",
            "False\n",
            "False\n"
          ]
        }
      ]
    }
  ]
}