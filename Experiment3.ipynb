{
  "nbformat": 4,
  "nbformat_minor": 0,
  "metadata": {
    "colab": {
      "name": "Untitled18.ipynb",
      "provenance": [],
      "authorship_tag": "ABX9TyM7ogZWO/BF2trcvw58UQ8J",
      "include_colab_link": true
    },
    "kernelspec": {
      "name": "python3",
      "display_name": "Python 3"
    },
    "language_info": {
      "name": "python"
    }
  },
  "cells": [
    {
      "cell_type": "markdown",
      "metadata": {
        "id": "view-in-github",
        "colab_type": "text"
      },
      "source": [
        "<a href=\"https://colab.research.google.com/github/Deepaansi/NLP_LAB/blob/main/Experiment3.ipynb\" target=\"_parent\"><img src=\"https://colab.research.google.com/assets/colab-badge.svg\" alt=\"Open In Colab\"/></a>"
      ]
    },
    {
      "cell_type": "markdown",
      "metadata": {
        "id": "HD4R5_emaATr"
      },
      "source": [
        "**Experiment - 3**"
      ]
    },
    {
      "cell_type": "markdown",
      "metadata": {
        "id": "rGIvaPjYaFZi"
      },
      "source": [
        "**Write a program to implement the Minimum Edit Distance algorithm using Python.**\n",
        "\n"
      ]
    },
    {
      "cell_type": "code",
      "metadata": {
        "colab": {
          "base_uri": "https://localhost:8080/"
        },
        "id": "QJP6eAUqaIgN",
        "outputId": "9ebcbd26-3e3e-476c-850f-f009cebe09a0"
      },
      "source": [
        "import numpy as np\n",
        "\n",
        "def edit_Distance(X, Y):\n",
        "    Xlen, Ylen = len(X), len(Y)\n",
        "    table = np.zeros( (Xlen+1, Ylen+1), dtype=int)\n",
        "\n",
        "    for i in range(1, Xlen+1):\n",
        "        table[i, 0] = table[i-1, 0] + 1  # del cost - 1\n",
        "    \n",
        "    for j in range(1, Ylen+1):\n",
        "        table[0, j] = table[0, j-1] + 1  #ins-cose - 1\n",
        "    \n",
        "    # Recurrence relation\n",
        "    for i in range(1, Xlen+1):\n",
        "        for j in range(1, Ylen+1):\n",
        "            table[i, j] = min(\n",
        "                table[i-1, j] + 1,\n",
        "                table[i, j-1] + 1,\n",
        "                table[i-1, j-1] if (X[i-1]==Y[j-1]) else table[i-1, j-1]+2\n",
        "            )\n",
        "    print(table)\n",
        "    return table[Xlen, Ylen]\n",
        "\n",
        "\n",
        "source = \"text\"\n",
        "target = \"test\"\n",
        "print(f'Distance between {source} and {target} is {edit_Distance(source, target)}')"
      ],
      "execution_count": 1,
      "outputs": [
        {
          "output_type": "stream",
          "name": "stdout",
          "text": [
            "[[0 1 2 3 4]\n",
            " [1 0 1 2 3]\n",
            " [2 1 0 1 2]\n",
            " [3 2 1 2 3]\n",
            " [4 3 2 3 2]]\n",
            "Distance between text and test is 2\n"
          ]
        }
      ]
    }
  ]
}